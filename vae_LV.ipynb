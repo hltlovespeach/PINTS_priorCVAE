{
 "cells": [
  {
   "cell_type": "markdown",
   "metadata": {},
   "source": [
    "# PriorCVAE on Lotka Volterra"
   ]
  },
  {
   "cell_type": "code",
   "execution_count": 1,
   "metadata": {},
   "outputs": [],
   "source": [
    "import random as rnd\n",
    "\n",
    "import numpy as np \n",
    "import matplotlib.pyplot as plt\n",
    "import numpyro\n",
    "from numpyro.infer import Predictive\n",
    "from numpyro.diagnostics import hpdi\n",
    "numpyro.set_host_device_count(4)\n",
    "import jax\n",
    "import optax\n",
    "from jax import random\n",
    "import jax.numpy as jnp\n",
    "\n",
    "from priorCVAE_copy.models import MLPEncoder, MLPDecoder, VAE\n",
    "from priorCVAE_copy.priors import GP, SquaredExponential\n",
    "from priorCVAE_copy.mcmc import run_mcmc_vae, vae_mcmc_inference_model\n",
    "from priorCVAE_copy.datasets import GPDataset, LVDataset\n",
    "from priorCVAE_copy.trainer import VAETrainer\n",
    "from priorCVAE_copy.losses import SquaredSumAndKL\n",
    "\n",
    "import jax.config as config\n",
    "config.update(\"jax_enable_x64\", True)"
   ]
  },
  {
   "cell_type": "code",
   "execution_count": 11,
   "metadata": {},
   "outputs": [],
   "source": [
    "import pints\n",
    "import pints_jax\n",
    "import pints.toy as toy\n",
    "import pints.toy.stochastic\n",
    "import pints.plot\n",
    "import numpy as np\n",
    "import matplotlib.pyplot as plt"
   ]
  },
  {
   "cell_type": "code",
   "execution_count": 3,
   "metadata": {},
   "outputs": [],
   "source": [
    "args = {\n",
    "        \"conditional\": True,\n",
    "        \n",
    "        # architecture\n",
    "        \"input_dim\" : 80,\n",
    "        \"hidden_dim\": 60,\n",
    "        \"latent_dim\": 40,\n",
    "        \n",
    "        # VAE training    \n",
    "        \"batch_size\": 1,\n",
    "        \"num_iterations\": 3000,\n",
    "        \"learning_rate\": 1e-3,\n",
    "        \"vae_var\": 1.,\n",
    "\n",
    "        # MCMC inference\n",
    "        \"true_ls\": 0.2,\n",
    "        \"num_warmup\": 1000,\n",
    "        \"num_mcmc_samples\": 4000,\n",
    "        \"num_chains\": 4,\n",
    "        \"thinning\": 1,\n",
    "       }"
   ]
  },
  {
   "cell_type": "markdown",
   "metadata": {},
   "source": [
    "## Generate Data\n",
    "**Problem:** how can we get a general enough data set, including different initial population densities and parameters?   \n",
    "Parameters are easier to generate, uniform priors will be fine. What about initial population densities? What are common initial circumstances for the Lotka Volterra model? What are considered as general?"
   ]
  },
  {
   "cell_type": "code",
   "execution_count": 13,
   "metadata": {},
   "outputs": [
    {
     "name": "stdout",
     "output_type": "stream",
     "text": [
      "[[3.40119738 1.38629436]\n",
      " [4.14076041 1.51517924]\n",
      " [4.9048173  1.94022877]\n",
      " [5.43125688 2.85746673]\n",
      " [5.29026188 4.41232682]\n",
      " [4.32622326 6.05320352]\n",
      " [3.13973391 6.55419567]\n",
      " [2.32769919 5.74252599]\n",
      " [1.93807723 4.45222991]\n",
      " [1.83768459 3.28823187]\n",
      " [1.9353099  2.4303788 ]\n",
      " [2.19291194 1.8641874 ]\n",
      " [2.60174615 1.531973  ]\n",
      " [3.16245491 1.39180089]\n",
      " [3.8628571  1.44136876]\n",
      " [4.63781229 1.74218394]\n",
      " [5.29390505 2.45394217]\n",
      " [5.44322374 3.78701173]\n",
      " [4.74482306 5.53100522]\n",
      " [3.54363405 6.55208826]\n",
      " [2.56668017 6.1382553 ]\n",
      " [2.03872976 4.92456555]\n",
      " [1.84772342 3.67661891]\n",
      " [1.88042557 2.70413433]\n",
      " [2.08227555 2.03881964]\n",
      " [2.43646554 1.62835841]\n",
      " [2.94241744 1.42151795]\n",
      " [3.59586826 1.39942135]\n",
      " [4.35741927 1.59683799]\n",
      " [5.09091762 2.13470385]]\n"
     ]
    }
   ],
   "source": [
    "model = toy.LotkaVolterraModel()\n",
    "\n",
    "# Example of a toy data with suggested parameter values\n",
    "times = np.linspace(0, 20,30)\n",
    "params = np.array([0.5,0.15,1,.3])\n",
    "values = model.simulate(params, times)\n",
    "print(values)"
   ]
  },
  {
   "cell_type": "code",
   "execution_count": 2,
   "metadata": {},
   "outputs": [
    {
     "name": "stdout",
     "output_type": "stream",
     "text": [
      "Traced<ShapedArray(float64[30,2])>with<DynamicJaxprTrace(level=1/0)>\n"
     ]
    }
   ],
   "source": [
    "generator = LVDataset()\n",
    "a,b,c = generator.simulatedata(3)"
   ]
  },
  {
   "cell_type": "code",
   "execution_count": 3,
   "metadata": {},
   "outputs": [
    {
     "data": {
      "text/plain": [
       "(3, 30, 2)"
      ]
     },
     "execution_count": 3,
     "metadata": {},
     "output_type": "execute_result"
    }
   ],
   "source": [
    "np.shape(c)"
   ]
  },
  {
   "cell_type": "code",
   "execution_count": 4,
   "metadata": {},
   "outputs": [
    {
     "name": "stdout",
     "output_type": "stream",
     "text": [
      "[[0.83107835 1.25096046 0.88570101 1.52500643]\n",
      " [0.14492511 0.04063634 0.95985286 0.17269169]\n",
      " [0.59302312 0.46028562 0.03866878 1.86871807]]\n"
     ]
    }
   ],
   "source": [
    "print(b)"
   ]
  },
  {
   "cell_type": "code",
   "execution_count": 7,
   "metadata": {},
   "outputs": [
    {
     "data": {
      "text/plain": [
       "(30, 30)"
      ]
     },
     "execution_count": 7,
     "metadata": {},
     "output_type": "execute_result"
    }
   ],
   "source": [
    "np.shape(a)"
   ]
  },
  {
   "cell_type": "code",
   "execution_count": 9,
   "metadata": {},
   "outputs": [
    {
     "ename": "AttributeError",
     "evalue": "'numpy.ndarray' object has no attribute 'pop'",
     "output_type": "error",
     "traceback": [
      "\u001b[0;31m---------------------------------------------------------------------------\u001b[0m",
      "\u001b[0;31mAttributeError\u001b[0m                            Traceback (most recent call last)",
      "Cell \u001b[0;32mIn[9], line 2\u001b[0m\n\u001b[1;32m      1\u001b[0m a \u001b[39m=\u001b[39m np\u001b[39m.\u001b[39marray([\u001b[39m1\u001b[39m,\u001b[39m2\u001b[39m,\u001b[39m3\u001b[39m,\u001b[39m4\u001b[39m])\n\u001b[0;32m----> 2\u001b[0m a\u001b[39m.\u001b[39;49mpop(\u001b[39m0\u001b[39m)\n",
      "\u001b[0;31mAttributeError\u001b[0m: 'numpy.ndarray' object has no attribute 'pop'"
     ]
    }
   ],
   "source": [
    "a = np.array([1,2,3,4])\n",
    "a.pop(0)"
   ]
  },
  {
   "cell_type": "markdown",
   "metadata": {},
   "source": []
  }
 ],
 "metadata": {
  "kernelspec": {
   "display_name": "prior_cvae",
   "language": "python",
   "name": "python3"
  },
  "language_info": {
   "codemirror_mode": {
    "name": "ipython",
    "version": 3
   },
   "file_extension": ".py",
   "mimetype": "text/x-python",
   "name": "python",
   "nbconvert_exporter": "python",
   "pygments_lexer": "ipython3",
   "version": "3.11.4"
  },
  "orig_nbformat": 4
 },
 "nbformat": 4,
 "nbformat_minor": 2
}
