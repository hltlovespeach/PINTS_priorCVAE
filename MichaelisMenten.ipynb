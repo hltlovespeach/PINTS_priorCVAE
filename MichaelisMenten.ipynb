{
 "cells": [
  {
   "cell_type": "markdown",
   "metadata": {},
   "source": [
    "## Attempt: Michaelis Menten with PriorCVAE\n",
    "**Objective**: learn trajectories of the Michaelis Menten model with fixed initial values, but different parameter values."
   ]
  },
  {
   "cell_type": "code",
   "execution_count": 1,
   "metadata": {},
   "outputs": [],
   "source": [
    "import random as rnd\n",
    "\n",
    "import numpy as np \n",
    "import matplotlib.pyplot as plt\n",
    "import numpyro\n",
    "from numpyro.infer import Predictive\n",
    "from numpyro.diagnostics import hpdi\n",
    "numpyro.set_host_device_count(4)\n",
    "import jax\n",
    "import optax\n",
    "from jax import random\n",
    "import jax.numpy as jnp\n",
    "\n",
    "\n",
    "from priorCVAE_copy.models import MLPEncoder, MLPDecoder, VAE\n",
    "from priorCVAE_copy.mcmc import run_mcmc_vae, vae_mcmc_inference_model\n",
    "from priorCVAE_copy.datasets import MMDataset\n",
    "from priorCVAE_copy.trainer import VAETrainer\n",
    "from priorCVAE_copy.losses import SquaredSumAndKL\n",
    "\n",
    "import jax.config as config\n",
    "config.update(\"jax_enable_x64\", True)"
   ]
  },
  {
   "cell_type": "markdown",
   "metadata": {},
   "source": [
    "### Set Arguments"
   ]
  },
  {
   "cell_type": "code",
   "execution_count": 2,
   "metadata": {},
   "outputs": [],
   "source": [
    "args = {\n",
    "        \"conditional\": True,\n",
    "        \n",
    "        # architecture\n",
    "        \"input_dim\" : 100,\n",
    "        \"hidden_dim\": 80,\n",
    "        \"latent_dim\": 60,\n",
    "        \n",
    "        # VAE training    \n",
    "        \"batch_size\": 500,\n",
    "        \"num_iterations\": 1000,\n",
    "        \"learning_rate\": 1e-3,\n",
    "        \"vae_var\": 1.,\n",
    "\n",
    "        # MCMC inference\n",
    "        \"true_ls\": 0.2,\n",
    "        \"num_warmup\": 1000,\n",
    "        \"num_mcmc_samples\": 4000,\n",
    "        \"num_chains\": 4,\n",
    "        \"thinning\": 1,\n",
    "       }"
   ]
  },
  {
   "cell_type": "markdown",
   "metadata": {},
   "source": [
    "### Generate Data"
   ]
  },
  {
   "cell_type": "code",
   "execution_count": 3,
   "metadata": {},
   "outputs": [
    {
     "name": "stderr",
     "output_type": "stream",
     "text": [
      "/Users/lthao/miniconda3/envs/prior_cvae/lib/python3.10/site-packages/jax/_src/ops/scatter.py:92: FutureWarning: scatter inputs have incompatible types: cannot safely cast value from dtype=float64 to dtype=int64. In future JAX releases this will result in an error.\n",
      "  warnings.warn(\"scatter inputs have incompatible types: cannot safely cast \"\n"
     ]
    },
    {
     "ename": "UnexpectedTracerError",
     "evalue": "Encountered an unexpected tracer. A function transformed by JAX had a side effect, allowing for a reference to an intermediate value with type float64[] wrapped in a DynamicJaxprTracer to escape the scope of the transformation.\nJAX transformations require that functions explicitly return their outputs, and disallow saving intermediate values to global state.\nThe function being traced when the value leaked was body at /Users/lthao/Documents/GitHub/PINTS_priorCVAE/pints_jax/toy/stochastic/_markov_jump_model.py:128 traced for while_loop.\n------------------------------\nThe leaked intermediate value was created on line /Users/lthao/Documents/GitHub/PINTS_priorCVAE/pints_jax/toy/stochastic/_markov_jump_model.py:139 (body). \n------------------------------\nWhen the value was created, the final 5 stack frames (most recent last) excluding JAX-internal frames were:\n------------------------------\n/Users/lthao/Documents/GitHub/PINTS_priorCVAE/priorCVAE_copy/datasets/gp_dataset.py:125 (simulatedata)\n/Users/lthao/Documents/GitHub/PINTS_priorCVAE/priorCVAE_copy/priors/MM.py:36 (MM)\n/Users/lthao/Documents/GitHub/PINTS_priorCVAE/pints_jax/toy/stochastic/_markov_jump_model.py:301 (simulate)\n/Users/lthao/Documents/GitHub/PINTS_priorCVAE/pints_jax/toy/stochastic/_markov_jump_model.py:169 (simulate_raw)\n/Users/lthao/Documents/GitHub/PINTS_priorCVAE/pints_jax/toy/stochastic/_markov_jump_model.py:139 (body)\n------------------------------\n\nTo catch the leak earlier, try setting the environment variable JAX_CHECK_TRACER_LEAKS or using the `jax.checking_leaks` context manager.\nSee https://jax.readthedocs.io/en/latest/errors.html#jax.errors.UnexpectedTracerError",
     "output_type": "error",
     "traceback": [
      "\u001b[0;31m---------------------------------------------------------------------------\u001b[0m",
      "\u001b[0;31mUnexpectedTracerError\u001b[0m                     Traceback (most recent call last)",
      "Cell \u001b[0;32mIn[3], line 2\u001b[0m\n\u001b[1;32m      1\u001b[0m mm_sampler \u001b[39m=\u001b[39m MMDataset(n_data\u001b[39m=\u001b[39margs[\u001b[39m\"\u001b[39m\u001b[39minput_dim\u001b[39m\u001b[39m\"\u001b[39m])\n\u001b[0;32m----> 2\u001b[0m sample_x_train, sample_y_train, sample_k_train \u001b[39m=\u001b[39m mm_sampler\u001b[39m.\u001b[39;49msimulatedata(n_samples\u001b[39m=\u001b[39;49m\u001b[39m1\u001b[39;49m)\n",
      "File \u001b[0;32m~/Documents/GitHub/PINTS_priorCVAE/priorCVAE_copy/datasets/gp_dataset.py:125\u001b[0m, in \u001b[0;36mMMDataset.simulatedata\u001b[0;34m(self, n_samples, initial)\u001b[0m\n\u001b[1;32m    123\u001b[0m \u001b[39m# mid_time = time.time()\u001b[39;00m\n\u001b[1;32m    124\u001b[0m \u001b[39mfor\u001b[39;00m i \u001b[39min\u001b[39;00m \u001b[39mrange\u001b[39m(n_samples):\n\u001b[0;32m--> 125\u001b[0m     y,k \u001b[39m=\u001b[39m MM(x\u001b[39m=\u001b[39;49m\u001b[39mself\u001b[39;49m\u001b[39m.\u001b[39;49mx,initial\u001b[39m=\u001b[39;49mjnp\u001b[39m.\u001b[39;49marray([\u001b[39m1e4\u001b[39;49m, \u001b[39m2e3\u001b[39;49m, \u001b[39m2e4\u001b[39;49m, \u001b[39m0\u001b[39;49m]))\n\u001b[1;32m    126\u001b[0m \u001b[39m#     values = model.simulate(k, times)   # shape is (n_data,4)\u001b[39;00m\n\u001b[1;32m    127\u001b[0m     k_draws \u001b[39m=\u001b[39m k_draws\u001b[39m.\u001b[39mat[i,:,:]\u001b[39m.\u001b[39mset(k\u001b[39m.\u001b[39mreshape(\u001b[39m3\u001b[39m,\u001b[39m1\u001b[39m))\n",
      "File \u001b[0;32m~/Documents/GitHub/PINTS_priorCVAE/priorCVAE_copy/priors/MM.py:36\u001b[0m, in \u001b[0;36mMM\u001b[0;34m(x, initial)\u001b[0m\n\u001b[1;32m     33\u001b[0m \u001b[39m# else: k = [1e-5, 0.2, 0.2]\u001b[39;00m\n\u001b[1;32m     35\u001b[0m model \u001b[39m=\u001b[39m toy\u001b[39m.\u001b[39mstochastic\u001b[39m.\u001b[39mMichaelisMentenModel(initial)\n\u001b[0;32m---> 36\u001b[0m y \u001b[39m=\u001b[39m model\u001b[39m.\u001b[39;49msimulate(k, x)\n\u001b[1;32m     37\u001b[0m \u001b[39m# return jnp.asarray(y), jnp.asarray(k)\u001b[39;00m\n\u001b[1;32m     38\u001b[0m \u001b[39mreturn\u001b[39;00m y, k\n",
      "File \u001b[0;32m~/Documents/GitHub/PINTS_priorCVAE/pints_jax/toy/stochastic/_markov_jump_model.py:301\u001b[0m, in \u001b[0;36mMarkovJumpModel.simulate\u001b[0;34m(self, parameters, times)\u001b[0m\n\u001b[1;32m    296\u001b[0m times \u001b[39m=\u001b[39m jnp\u001b[39m.\u001b[39masarray(times)\n\u001b[1;32m    297\u001b[0m \u001b[39m# if jnp.any(times < 0):\u001b[39;00m\n\u001b[1;32m    298\u001b[0m \u001b[39m#     raise ValueError('Negative times are not allowed.')\u001b[39;00m\n\u001b[1;32m    299\u001b[0m \n\u001b[1;32m    300\u001b[0m \u001b[39m# Run Gillespie algorithm\u001b[39;00m\n\u001b[0;32m--> 301\u001b[0m time, mol_count \u001b[39m=\u001b[39m \u001b[39mself\u001b[39;49m\u001b[39m.\u001b[39;49msimulate_raw(parameters, jnp\u001b[39m.\u001b[39;49mmax(times))\n\u001b[1;32m    303\u001b[0m \u001b[39mprint\u001b[39m(time)\n\u001b[1;32m    304\u001b[0m \u001b[39m# print(mol_count)\u001b[39;00m\n\u001b[1;32m    305\u001b[0m \n\u001b[1;32m    306\u001b[0m \u001b[39m# Interpolate and return\u001b[39;00m\n",
      "File \u001b[0;32m~/Documents/GitHub/PINTS_priorCVAE/pints_jax/toy/stochastic/_markov_jump_model.py:169\u001b[0m, in \u001b[0;36mMarkovJumpModel.simulate_raw\u001b[0;34m(self, rates, max_time)\u001b[0m\n\u001b[1;32m    165\u001b[0m     jnp\u001b[39m.\u001b[39masarray(\u001b[39mself\u001b[39m\u001b[39m.\u001b[39mmol_count)\n\u001b[1;32m    167\u001b[0m     \u001b[39mreturn\u001b[39;00m arr\n\u001b[0;32m--> 169\u001b[0m last \u001b[39m=\u001b[39m jax\u001b[39m.\u001b[39;49mlax\u001b[39m.\u001b[39;49mwhile_loop(cond_fun\u001b[39m=\u001b[39;49mcond, body_fun\u001b[39m=\u001b[39;49mbody, init_val\u001b[39m=\u001b[39;49marr)\n\u001b[1;32m    171\u001b[0m \u001b[39mreturn\u001b[39;00m \u001b[39mself\u001b[39m\u001b[39m.\u001b[39mtime, \u001b[39mself\u001b[39m\u001b[39m.\u001b[39mmol_count\n",
      "    \u001b[0;31m[... skipping hidden 9 frame]\u001b[0m\n",
      "File \u001b[0;32m~/Documents/GitHub/PINTS_priorCVAE/pints_jax/toy/stochastic/_markov_jump_model.py:164\u001b[0m, in \u001b[0;36mMarkovJumpModel.simulate_raw.<locals>.body\u001b[0;34m(arr)\u001b[0m\n\u001b[1;32m    162\u001b[0m \u001b[39mself\u001b[39m\u001b[39m.\u001b[39mtime\u001b[39m.\u001b[39mappend(arr[\u001b[39m1\u001b[39m])\n\u001b[1;32m    163\u001b[0m \u001b[39mself\u001b[39m\u001b[39m.\u001b[39mmol_count\u001b[39m.\u001b[39mappend(x)\n\u001b[0;32m--> 164\u001b[0m jnp\u001b[39m.\u001b[39;49masarray(\u001b[39mself\u001b[39;49m\u001b[39m.\u001b[39;49mtime)\n\u001b[1;32m    165\u001b[0m jnp\u001b[39m.\u001b[39masarray(\u001b[39mself\u001b[39m\u001b[39m.\u001b[39mmol_count)\n\u001b[1;32m    167\u001b[0m \u001b[39mreturn\u001b[39;00m arr\n",
      "File \u001b[0;32m~/miniconda3/envs/prior_cvae/lib/python3.10/site-packages/jax/_src/numpy/lax_numpy.py:2071\u001b[0m, in \u001b[0;36masarray\u001b[0;34m(a, dtype, order)\u001b[0m\n\u001b[1;32m   2069\u001b[0m \u001b[39mif\u001b[39;00m dtype \u001b[39mis\u001b[39;00m \u001b[39mnot\u001b[39;00m \u001b[39mNone\u001b[39;00m:\n\u001b[1;32m   2070\u001b[0m   dtype \u001b[39m=\u001b[39m dtypes\u001b[39m.\u001b[39mcanonicalize_dtype(dtype, allow_opaque_dtype\u001b[39m=\u001b[39m\u001b[39mTrue\u001b[39;00m)\n\u001b[0;32m-> 2071\u001b[0m \u001b[39mreturn\u001b[39;00m array(a, dtype\u001b[39m=\u001b[39;49mdtype, copy\u001b[39m=\u001b[39;49m\u001b[39mFalse\u001b[39;49;00m, order\u001b[39m=\u001b[39;49morder)\n",
      "File \u001b[0;32m~/miniconda3/envs/prior_cvae/lib/python3.10/site-packages/jax/_src/numpy/lax_numpy.py:2038\u001b[0m, in \u001b[0;36marray\u001b[0;34m(object, dtype, copy, order, ndmin)\u001b[0m\n\u001b[1;32m   2036\u001b[0m \u001b[39melif\u001b[39;00m \u001b[39misinstance\u001b[39m(\u001b[39mobject\u001b[39m, (\u001b[39mlist\u001b[39m, \u001b[39mtuple\u001b[39m)):\n\u001b[1;32m   2037\u001b[0m   \u001b[39mif\u001b[39;00m \u001b[39mobject\u001b[39m:\n\u001b[0;32m-> 2038\u001b[0m     out \u001b[39m=\u001b[39m stack([asarray(elt, dtype\u001b[39m=\u001b[39;49mdtype) \u001b[39mfor\u001b[39;49;00m elt \u001b[39min\u001b[39;49;00m \u001b[39mobject\u001b[39;49m])\n\u001b[1;32m   2039\u001b[0m   \u001b[39melse\u001b[39;00m:\n\u001b[1;32m   2040\u001b[0m     out \u001b[39m=\u001b[39m np\u001b[39m.\u001b[39marray([], dtype\u001b[39m=\u001b[39mdtype)\n",
      "File \u001b[0;32m~/miniconda3/envs/prior_cvae/lib/python3.10/site-packages/jax/_src/numpy/lax_numpy.py:1780\u001b[0m, in \u001b[0;36mstack\u001b[0;34m(arrays, axis, out, dtype)\u001b[0m\n\u001b[1;32m   1778\u001b[0m   \u001b[39mif\u001b[39;00m shape(a) \u001b[39m!=\u001b[39m shape0:\n\u001b[1;32m   1779\u001b[0m     \u001b[39mraise\u001b[39;00m \u001b[39mValueError\u001b[39;00m(\u001b[39m\"\u001b[39m\u001b[39mAll input arrays must have the same shape.\u001b[39m\u001b[39m\"\u001b[39m)\n\u001b[0;32m-> 1780\u001b[0m   new_arrays\u001b[39m.\u001b[39mappend(expand_dims(a, axis))\n\u001b[1;32m   1781\u001b[0m \u001b[39mreturn\u001b[39;00m concatenate(new_arrays, axis\u001b[39m=\u001b[39maxis, dtype\u001b[39m=\u001b[39mdtype)\n",
      "File \u001b[0;32m~/miniconda3/envs/prior_cvae/lib/python3.10/site-packages/jax/_src/numpy/lax_numpy.py:890\u001b[0m, in \u001b[0;36mexpand_dims\u001b[0;34m(a, axis)\u001b[0m\n\u001b[1;32m    888\u001b[0m util\u001b[39m.\u001b[39mcheck_arraylike(\u001b[39m\"\u001b[39m\u001b[39mexpand_dims\u001b[39m\u001b[39m\"\u001b[39m, a)\n\u001b[1;32m    889\u001b[0m axis \u001b[39m=\u001b[39m _ensure_index_tuple(axis)\n\u001b[0;32m--> 890\u001b[0m \u001b[39mreturn\u001b[39;00m lax\u001b[39m.\u001b[39;49mexpand_dims(a, axis)\n",
      "    \u001b[0;31m[... skipping hidden 4 frame]\u001b[0m\n",
      "File \u001b[0;32m~/miniconda3/envs/prior_cvae/lib/python3.10/site-packages/jax/_src/interpreters/partial_eval.py:1579\u001b[0m, in \u001b[0;36mDynamicJaxprTracer._assert_live\u001b[0;34m(self)\u001b[0m\n\u001b[1;32m   1577\u001b[0m \u001b[39mdef\u001b[39;00m \u001b[39m_assert_live\u001b[39m(\u001b[39mself\u001b[39m) \u001b[39m-\u001b[39m\u001b[39m>\u001b[39m \u001b[39mNone\u001b[39;00m:\n\u001b[1;32m   1578\u001b[0m   \u001b[39mif\u001b[39;00m \u001b[39mnot\u001b[39;00m \u001b[39mself\u001b[39m\u001b[39m.\u001b[39m_trace\u001b[39m.\u001b[39mmain\u001b[39m.\u001b[39mjaxpr_stack:  \u001b[39m# type: ignore\u001b[39;00m\n\u001b[0;32m-> 1579\u001b[0m     \u001b[39mraise\u001b[39;00m core\u001b[39m.\u001b[39mescaped_tracer_error(\u001b[39mself\u001b[39m, \u001b[39mNone\u001b[39;00m)\n",
      "\u001b[0;31mUnexpectedTracerError\u001b[0m: Encountered an unexpected tracer. A function transformed by JAX had a side effect, allowing for a reference to an intermediate value with type float64[] wrapped in a DynamicJaxprTracer to escape the scope of the transformation.\nJAX transformations require that functions explicitly return their outputs, and disallow saving intermediate values to global state.\nThe function being traced when the value leaked was body at /Users/lthao/Documents/GitHub/PINTS_priorCVAE/pints_jax/toy/stochastic/_markov_jump_model.py:128 traced for while_loop.\n------------------------------\nThe leaked intermediate value was created on line /Users/lthao/Documents/GitHub/PINTS_priorCVAE/pints_jax/toy/stochastic/_markov_jump_model.py:139 (body). \n------------------------------\nWhen the value was created, the final 5 stack frames (most recent last) excluding JAX-internal frames were:\n------------------------------\n/Users/lthao/Documents/GitHub/PINTS_priorCVAE/priorCVAE_copy/datasets/gp_dataset.py:125 (simulatedata)\n/Users/lthao/Documents/GitHub/PINTS_priorCVAE/priorCVAE_copy/priors/MM.py:36 (MM)\n/Users/lthao/Documents/GitHub/PINTS_priorCVAE/pints_jax/toy/stochastic/_markov_jump_model.py:301 (simulate)\n/Users/lthao/Documents/GitHub/PINTS_priorCVAE/pints_jax/toy/stochastic/_markov_jump_model.py:169 (simulate_raw)\n/Users/lthao/Documents/GitHub/PINTS_priorCVAE/pints_jax/toy/stochastic/_markov_jump_model.py:139 (body)\n------------------------------\n\nTo catch the leak earlier, try setting the environment variable JAX_CHECK_TRACER_LEAKS or using the `jax.checking_leaks` context manager.\nSee https://jax.readthedocs.io/en/latest/errors.html#jax.errors.UnexpectedTracerError"
     ]
    }
   ],
   "source": [
    "mm_sampler = MMDataset(n_data=args[\"input_dim\"])\n",
    "sample_x_train, sample_y_train, sample_k_train = mm_sampler.simulatedata(n_samples=1)"
   ]
  },
  {
   "cell_type": "code",
   "execution_count": null,
   "metadata": {},
   "outputs": [],
   "source": [
    "sample_k_train.shape"
   ]
  },
  {
   "cell_type": "code",
   "execution_count": null,
   "metadata": {},
   "outputs": [],
   "source": [
    "import pints\n",
    "import pints.toy as toy\n",
    "import pints.toy.stochastic\n",
    "import numpyro\n",
    "import numpyro.distributions as npdist"
   ]
  },
  {
   "cell_type": "code",
   "execution_count": null,
   "metadata": {},
   "outputs": [],
   "source": [
    "initial = [1e4, 2e3, 2e4, 0]\n",
    "model = toy.stochastic.MichaelisMentenModel(initial)\n",
    "mm_predictive = Predictive(model.simulate(), num_samples=3)"
   ]
  },
  {
   "cell_type": "code",
   "execution_count": null,
   "metadata": {},
   "outputs": [],
   "source": []
  }
 ],
 "metadata": {
  "kernelspec": {
   "display_name": "prior_cvae",
   "language": "python",
   "name": "python3"
  },
  "language_info": {
   "codemirror_mode": {
    "name": "ipython",
    "version": 3
   },
   "file_extension": ".py",
   "mimetype": "text/x-python",
   "name": "python",
   "nbconvert_exporter": "python",
   "pygments_lexer": "ipython3",
   "version": "3.10.0"
  },
  "orig_nbformat": 4
 },
 "nbformat": 4,
 "nbformat_minor": 2
}
