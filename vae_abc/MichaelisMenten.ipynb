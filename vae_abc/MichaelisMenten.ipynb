{
 "cells": [
  {
   "cell_type": "markdown",
   "metadata": {},
   "source": [
    "## Attempt: Michaelis Menten with PriorCVAE\n",
    "**Objective**: learn trajectories of the Michaelis Menten model with fixed initial values, but different parameter values."
   ]
  },
  {
   "cell_type": "code",
   "execution_count": 1,
   "metadata": {},
   "outputs": [],
   "source": [
    "import random as rnd\n",
    "\n",
    "import numpy as np \n",
    "import matplotlib.pyplot as plt\n",
    "import numpyro\n",
    "from numpyro.infer import Predictive\n",
    "from numpyro.diagnostics import hpdi\n",
    "numpyro.set_host_device_count(4)\n",
    "import jax\n",
    "import optax\n",
    "from jax import random\n",
    "import jax.numpy as jnp\n",
    "\n",
    "from priorCVAE_copy.models import MLPEncoder, MLPDecoder, VAE\n",
    "# from priorCVAE.priors import GP, SquaredExponential\n",
    "from priorCVAE_copy.mcmc import run_mcmc_vae, vae_mcmc_inference_model\n",
    "from priorCVAE_copy.datasets import MMDataset\n",
    "from priorCVAE_copy.trainer import VAETrainer\n",
    "from priorCVAE_copy.losses import SquaredSumAndKL\n",
    "\n",
    "import jax.config as config\n",
    "config.update(\"jax_enable_x64\", True)"
   ]
  },
  {
   "cell_type": "markdown",
   "metadata": {},
   "source": [
    "### Set Arguments"
   ]
  },
  {
   "cell_type": "code",
   "execution_count": 2,
   "metadata": {},
   "outputs": [],
   "source": [
    "args = {\n",
    "        \"conditional\": True,\n",
    "        \n",
    "        # architecture\n",
    "        \"input_dim\" : 100,\n",
    "        \"hidden_dim\": 80,\n",
    "        \"latent_dim\": 60,\n",
    "        \n",
    "        # VAE training    \n",
    "        \"batch_size\": 500,\n",
    "        \"num_iterations\": 1000,\n",
    "        \"learning_rate\": 1e-3,\n",
    "        \"vae_var\": 1.,\n",
    "\n",
    "        # MCMC inference\n",
    "        \"true_ls\": 0.2,\n",
    "        \"num_warmup\": 1000,\n",
    "        \"num_mcmc_samples\": 4000,\n",
    "        \"num_chains\": 4,\n",
    "        \"thinning\": 1,\n",
    "       }"
   ]
  },
  {
   "cell_type": "markdown",
   "metadata": {},
   "source": [
    "### Generate Data"
   ]
  },
  {
   "cell_type": "code",
   "execution_count": 3,
   "metadata": {},
   "outputs": [
    {
     "name": "stderr",
     "output_type": "stream",
     "text": [
      "/Users/lthao/miniconda3/envs/prior_cvae/lib/python3.10/site-packages/jax/_src/ops/scatter.py:92: FutureWarning: scatter inputs have incompatible types: cannot safely cast value from dtype=float64 to dtype=int64. In future JAX releases this will result in an error.\n",
      "  warnings.warn(\"scatter inputs have incompatible types: cannot safely cast \"\n"
     ]
    },
    {
     "name": "stdout",
     "output_type": "stream",
     "text": [
      "[0, Traced<ShapedArray(float64[])>with<DynamicJaxprTrace(level=1/0)>, Traced<ShapedArray(float64[])>with<DynamicJaxprTrace(level=1/0)>]\n"
     ]
    },
    {
     "ename": "AttributeError",
     "evalue": "'list' object has no attribute 'shape'",
     "output_type": "error",
     "traceback": [
      "\u001b[0;31m---------------------------------------------------------------------------\u001b[0m",
      "\u001b[0;31mAttributeError\u001b[0m                            Traceback (most recent call last)",
      "Cell \u001b[0;32mIn[3], line 2\u001b[0m\n\u001b[1;32m      1\u001b[0m mm_sampler \u001b[39m=\u001b[39m MMDataset(n_data\u001b[39m=\u001b[39margs[\u001b[39m\"\u001b[39m\u001b[39minput_dim\u001b[39m\u001b[39m\"\u001b[39m])\n\u001b[0;32m----> 2\u001b[0m sample_x_train, sample_y_train, sample_k_train \u001b[39m=\u001b[39m mm_sampler\u001b[39m.\u001b[39;49msimulatedata(n_samples\u001b[39m=\u001b[39;49m\u001b[39m1\u001b[39;49m)\n",
      "File \u001b[0;32m~/Documents/GitHub/ABC_VAE/priorCVAE_copy/datasets/gp_dataset.py:125\u001b[0m, in \u001b[0;36mMMDataset.simulatedata\u001b[0;34m(self, n_samples, initial)\u001b[0m\n\u001b[1;32m    123\u001b[0m \u001b[39m# mid_time = time.time()\u001b[39;00m\n\u001b[1;32m    124\u001b[0m \u001b[39mfor\u001b[39;00m i \u001b[39min\u001b[39;00m \u001b[39mrange\u001b[39m(n_samples):\n\u001b[0;32m--> 125\u001b[0m     y,k \u001b[39m=\u001b[39m MM(x\u001b[39m=\u001b[39;49m\u001b[39mself\u001b[39;49m\u001b[39m.\u001b[39;49mx,initial\u001b[39m=\u001b[39;49mjnp\u001b[39m.\u001b[39;49marray([\u001b[39m1e4\u001b[39;49m, \u001b[39m2e3\u001b[39;49m, \u001b[39m2e4\u001b[39;49m, \u001b[39m0\u001b[39;49m]))\n\u001b[1;32m    126\u001b[0m \u001b[39m#     values = model.simulate(k, times)   # shape is (n_data,4)\u001b[39;00m\n\u001b[1;32m    127\u001b[0m     k_draws \u001b[39m=\u001b[39m k_draws\u001b[39m.\u001b[39mat[i,:,:]\u001b[39m.\u001b[39mset(k\u001b[39m.\u001b[39mreshape(\u001b[39m3\u001b[39m,\u001b[39m1\u001b[39m))\n",
      "File \u001b[0;32m~/Documents/GitHub/ABC_VAE/priorCVAE_copy/priors/MM.py:36\u001b[0m, in \u001b[0;36mMM\u001b[0;34m(x, initial)\u001b[0m\n\u001b[1;32m     33\u001b[0m \u001b[39m# else: k = [1e-5, 0.2, 0.2]\u001b[39;00m\n\u001b[1;32m     35\u001b[0m model \u001b[39m=\u001b[39m toy\u001b[39m.\u001b[39mstochastic\u001b[39m.\u001b[39mMichaelisMentenModel(initial)\n\u001b[0;32m---> 36\u001b[0m y \u001b[39m=\u001b[39m model\u001b[39m.\u001b[39;49msimulate(k, x)\n\u001b[1;32m     37\u001b[0m \u001b[39m# return jnp.asarray(y), jnp.asarray(k)\u001b[39;00m\n\u001b[1;32m     38\u001b[0m \u001b[39mreturn\u001b[39;00m y, k\n",
      "File \u001b[0;32m~/Documents/GitHub/ABC_VAE/pints_jax/pints/toy/stochastic/_markov_jump_model.py:297\u001b[0m, in \u001b[0;36mMarkovJumpModel.simulate\u001b[0;34m(self, parameters, times)\u001b[0m\n\u001b[1;32m    293\u001b[0m \u001b[39mprint\u001b[39m(time)\n\u001b[1;32m    294\u001b[0m \u001b[39m# print(mol_count)\u001b[39;00m\n\u001b[1;32m    295\u001b[0m \n\u001b[1;32m    296\u001b[0m \u001b[39m# Interpolate and return\u001b[39;00m\n\u001b[0;32m--> 297\u001b[0m \u001b[39mreturn\u001b[39;00m \u001b[39mself\u001b[39;49m\u001b[39m.\u001b[39;49minterpolate_mol_counts(time, mol_count, times)\n",
      "File \u001b[0;32m~/Documents/GitHub/ABC_VAE/pints_jax/pints/toy/stochastic/_markov_jump_model.py:271\u001b[0m, in \u001b[0;36mMarkovJumpModel.interpolate_mol_counts\u001b[0;34m(self, time_interp, mol_count, output_times)\u001b[0m\n\u001b[1;32m    265\u001b[0m     \u001b[39mreturn\u001b[39;00m jnp\u001b[39m.\u001b[39mones(\u001b[39mlen\u001b[39m(output_times)) \u001b[39m*\u001b[39m mol_count[\u001b[39m0\u001b[39m]\n\u001b[1;32m    266\u001b[0m \u001b[39melse\u001b[39;00m:\n\u001b[1;32m    267\u001b[0m     \u001b[39m# Note: Can't use fill_value='extrapolate' here as:\u001b[39;00m\n\u001b[1;32m    268\u001b[0m     \u001b[39m#  1. This require scipy >= 0.17\u001b[39;00m\n\u001b[1;32m    269\u001b[0m     \u001b[39m#  2. There seems to be a bug in some scipy versions\u001b[39;00m\n\u001b[0;32m--> 271\u001b[0m     values \u001b[39m=\u001b[39m \u001b[39mself\u001b[39;49m\u001b[39m.\u001b[39;49msorted_interp(output_times, time_interp, mol_count)\n\u001b[1;32m    272\u001b[0m     \u001b[39m# jcospy.interpolate.\u001b[39;00m\n\u001b[1;32m    273\u001b[0m     \u001b[39m# values = jax.numpy.interp(output_times, time_interp, mol_count)\u001b[39;00m\n\u001b[1;32m    274\u001b[0m     \u001b[39m# interp_function = jax.scipy.interpolate.RegularGridInterpolator(\u001b[39;00m\n\u001b[0;32m   (...)\u001b[0m\n\u001b[1;32m    277\u001b[0m \n\u001b[1;32m    278\u001b[0m \u001b[39m# At any point past the final time, repeat the last value\u001b[39;00m\n\u001b[1;32m    279\u001b[0m values[output_times \u001b[39m>\u001b[39m\u001b[39m=\u001b[39m time_interp[\u001b[39m-\u001b[39m\u001b[39m1\u001b[39m]] \u001b[39m=\u001b[39m mol_count[\u001b[39m-\u001b[39m\u001b[39m1\u001b[39m]\n",
      "File \u001b[0;32m~/Documents/GitHub/ABC_VAE/pints_jax/pints/toy/stochastic/_markov_jump_model.py:172\u001b[0m, in \u001b[0;36mMarkovJumpModel.sorted_interp\u001b[0;34m(self, x, xp, fp)\u001b[0m\n\u001b[1;32m    170\u001b[0m \u001b[39mdef\u001b[39;00m \u001b[39msorted_interp\u001b[39m(\u001b[39mself\u001b[39m, x, xp, fp):\n\u001b[1;32m    171\u001b[0m     m \u001b[39m=\u001b[39m x\u001b[39m.\u001b[39mshape[\u001b[39m0\u001b[39m]\n\u001b[0;32m--> 172\u001b[0m     n \u001b[39m=\u001b[39m xp\u001b[39m.\u001b[39;49mshape[\u001b[39m0\u001b[39m]\n\u001b[1;32m    173\u001b[0m     x \u001b[39m=\u001b[39m jnp\u001b[39m.\u001b[39matleast_1d(x)\n\u001b[1;32m    174\u001b[0m     j \u001b[39m=\u001b[39m \u001b[39m0\u001b[39m\n",
      "\u001b[0;31mAttributeError\u001b[0m: 'list' object has no attribute 'shape'"
     ]
    }
   ],
   "source": [
    "mm_sampler = MMDataset(n_data=args[\"input_dim\"])\n",
    "sample_x_train, sample_y_train, sample_k_train = mm_sampler.simulatedata(n_samples=1)"
   ]
  },
  {
   "cell_type": "code",
   "execution_count": null,
   "metadata": {},
   "outputs": [],
   "source": [
    "sample_k_train.shape"
   ]
  },
  {
   "cell_type": "code",
   "execution_count": null,
   "metadata": {},
   "outputs": [],
   "source": [
    "import pints\n",
    "import pints.toy as toy\n",
    "import pints.toy.stochastic\n",
    "import numpyro\n",
    "import numpyro.distributions as npdist"
   ]
  },
  {
   "cell_type": "code",
   "execution_count": null,
   "metadata": {},
   "outputs": [],
   "source": [
    "initial = [1e4, 2e3, 2e4, 0]\n",
    "model = toy.stochastic.MichaelisMentenModel(initial)\n",
    "mm_predictive = Predictive(model.simulate(), num_samples=3)"
   ]
  },
  {
   "cell_type": "code",
   "execution_count": null,
   "metadata": {},
   "outputs": [],
   "source": []
  }
 ],
 "metadata": {
  "kernelspec": {
   "display_name": "prior_cvae",
   "language": "python",
   "name": "python3"
  },
  "language_info": {
   "codemirror_mode": {
    "name": "ipython",
    "version": 3
   },
   "file_extension": ".py",
   "mimetype": "text/x-python",
   "name": "python",
   "nbconvert_exporter": "python",
   "pygments_lexer": "ipython3",
   "version": "3.10.0"
  },
  "orig_nbformat": 4
 },
 "nbformat": 4,
 "nbformat_minor": 2
}
